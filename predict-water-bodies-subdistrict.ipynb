{
 "cells": [
  {
   "cell_type": "code",
   "execution_count": 1,
   "metadata": {},
   "outputs": [],
   "source": [
    "# all within Gujarat\n",
    "import numpy as np\n",
    "import sklearn\n",
    "from sklearn import linear_model\n",
    "from sklearn.metrics import mean_squared_error, r2_score\n",
    "import matplotlib\n",
    "matplotlib.use('Agg')\n",
    "import matplotlib.pyplot as plt\n",
    "%matplotlib inline\n",
    "\n",
    "import pandas as pd\n",
    "import argparse\n",
    "import data_input_jpg as dataset\n",
    "import json\n",
    "\n",
    "from haversine import haversine"
   ]
  },
  {
   "cell_type": "code",
   "execution_count": 2,
   "metadata": {},
   "outputs": [
    {
     "name": "stdout",
     "output_type": "stream",
     "text": [
      "Num water bodies: 2605\n",
      "total villages: 12678\n",
      "on village num 0 with id: 442056 and water bodies: 0\n",
      "on village num 500 with id: 442642 and water bodies: 0\n",
      "on village num 1000 with id: 443176 and water bodies: 0\n",
      "on village num 1500 with id: 443707 and water bodies: 1\n",
      "on village num 2000 with id: 444215 and water bodies: 0\n",
      "on village num 2500 with id: 444723 and water bodies: 0\n",
      "on village num 3000 with id: 445244 and water bodies: 20\n",
      "on village num 3500 with id: 445778 and water bodies: 1\n",
      "on village num 4000 with id: 446287 and water bodies: 2\n",
      "on village num 4500 with id: 446809 and water bodies: 2\n",
      "on village num 5000 with id: 447338 and water bodies: 5\n",
      "on village num 5500 with id: 447844 and water bodies: 7\n",
      "on village num 6000 with id: 448359 and water bodies: 6\n",
      "on village num 6500 with id: 448865 and water bodies: 1\n",
      "on village num 7000 with id: 449382 and water bodies: 8\n",
      "on village num 7500 with id: 450653 and water bodies: 0\n",
      "on village num 8000 with id: 451596 and water bodies: 0\n",
      "on village num 8500 with id: 452498 and water bodies: 7\n",
      "on village num 9000 with id: 453044 and water bodies: 9\n",
      "on village num 9500 with id: 453578 and water bodies: 7\n",
      "on village num 10000 with id: 454103 and water bodies: 5\n",
      "on village num 10500 with id: 454684 and water bodies: 24\n",
      "on village num 11000 with id: 455222 and water bodies: 3\n",
      "on village num 11500 with id: 455750 and water bodies: 0\n",
      "on village num 12000 with id: 456304 and water bodies: 0\n",
      "on village num 12500 with id: 457119 and water bodies: 10\n"
     ]
    }
   ],
   "source": [
    "def dist(lat1, lon1, lat2, lon2):\n",
    "    return np.sqrt(np.square(lat2 - lat1) + np.square(lon2 - lon1))\n",
    "\n",
    "with open(\"gujarat-water-filtered.json\", \"r\") as gujfile:\n",
    "    water_bodies = json.load(gujfile)\n",
    "\n",
    "print(\"Num water bodies:\", len(water_bodies))\n",
    "\n",
    "def num_nearby_water_bodies(lat, lon, radius_km, wb_times_within_boundary):\n",
    "    count = 0\n",
    "    boundary = float(radius_km)+7 # add 1km boundary\n",
    "    for wb in water_bodies:\n",
    "        dist_km = haversine((lat, lon), (wb[0], wb[1]))\n",
    "        if dist_km < boundary:\n",
    "            count += 1\n",
    "            if str(wb) not in wb_times_within_boundary:\n",
    "                wb_times_within_boundary[str(wb)] = 0.0\n",
    "            wb_times_within_boundary[str(wb)] += 1.0\n",
    "    return count\n",
    "\n",
    "def radius(area):\n",
    "    \"\"\"\n",
    "    Get radius of circle with given area\n",
    "    \"\"\"\n",
    "    return np.sqrt(area / np.pi)\n",
    "\n",
    "villages = np.load(\"openstreetmap/gujarat_villages.npy\")\n",
    "print(\"total villages:\", len(villages))\n",
    "examples = dict()\n",
    "village_ids = []\n",
    "wb_times_within_boundary = dict()\n",
    "for idx, village in enumerate(villages):\n",
    "    vid = int(village[1])\n",
    "    village_ids.append(vid)\n",
    "    \n",
    "    area = float(village[5]) / 10**6 # convert to km^2 from m^2\n",
    "    lat = float(village[7])\n",
    "    lon = float(village[6])\n",
    "    num_wb = num_nearby_water_bodies(lat, lon, radius(area), wb_times_within_boundary)\n",
    "    if idx % 500 == 0:\n",
    "        print(\"on village num\", idx, \"with id:\", vid, \"and water bodies:\", num_wb)\n",
    "    examples[vid] = {\"y\": num_wb}"
   ]
  },
  {
   "cell_type": "code",
   "execution_count": 3,
   "metadata": {},
   "outputs": [
    {
     "name": "stdout",
     "output_type": "stream",
     "text": [
      "repeating 2223 out of 2223\n"
     ]
    },
    {
     "data": {
      "image/png": "[encoded data removed]",
      "text/plain": [
       "<matplotlib.figure.Figure at 0x7f244ab85f98>"
      ]
     },
     "metadata": {},
     "output_type": "display_data"
    },
    {
     "name": "stdout",
     "output_type": "stream",
     "text": [
      "21.1124606388\n"
     ]
    }
   ],
   "source": [
    "repetitions = []\n",
    "found = 0\n",
    "for wb, count in wb_times_within_boundary.items():\n",
    "    if count > 0.0:\n",
    "        repetitions.append(count)\n",
    "        found += 1\n",
    "print(\"repeating\", found, \"out of\", len(wb_times_within_boundary))\n",
    "\n",
    "repetitions.sort(reverse=True)\n",
    "\n",
    "plt.bar(list(range(len(wb_times_within_boundary))), repetitions)\n",
    "plt.xlabel(\"Water body id\")\n",
    "plt.ylabel(\"Number of villages that share the water body\")\n",
    "plt.show()\n",
    "\n",
    "print(np.mean(repetitions))"
   ]
  },
  {
   "cell_type": "code",
   "execution_count": 4,
   "metadata": {},
   "outputs": [
    {
     "name": "stdout",
     "output_type": "stream",
     "text": [
      "finished batch 1\n",
      "finished batch 2\n",
      "finished batch 3\n",
      "finished batch 4\n",
      "finished batch 5\n",
      "finished batch 6\n",
      "finished batch 7\n",
      "finished batch 8\n",
      "finished batch 9\n",
      "finished batch 10\n",
      "finished batch 11\n",
      "finished batch 12\n",
      "finished batch 13\n",
      "saved pics for num villages: 12678\n"
     ]
    }
   ],
   "source": [
    "import tensorflow as tf\n",
    "sess = tf.Session()\n",
    "ANNOS_CSV = \"/home/timhu/dfd-pop/data/annos_csv/state24_jpgpaths_density_nolaps_12k_Mar6.csv\"\n",
    "JPG_DIR = '/home/timhu/all_jpg/'\n",
    "FLAGS = argparse.Namespace(batch_size= 1000,\n",
    "                           output_size = 1) # embedding size or class number\n",
    "IMAGE_HEIGHT = 224 \n",
    "IMAGE_WIDTH = 224\n",
    "IMAGE_CHANNEL = 3\n",
    "DATA = 's1'\n",
    "\n",
    "df_annos = pd.read_csv(ANNOS_CSV, index_col=0)\n",
    "\n",
    "if DATA == 'l8':\n",
    "    path_col = ['l8_vis_jpg']\n",
    "elif DATA == 's1':\n",
    "    path_col = ['s1_vis_jpg']\n",
    "elif DATA == 'l8s1':\n",
    "    path_col = ['l8_vis_jpg', 's1_vis_jpg']\n",
    "\n",
    "input_files_train = JPG_DIR + df_annos.loc[df_annos.partition == 'train', path_col].values\n",
    "input_files_val = JPG_DIR + df_annos.loc[df_annos.partition == 'val', path_col].values\n",
    "input_files_test = JPG_DIR + df_annos.loc[df_annos.partition == 'test', path_col].values\n",
    "input_files = np.concatenate((input_files_train, input_files_val, input_files_test), axis=0)\n",
    "\n",
    "input_labels_train = df_annos.loc[df_annos.partition == 'train', 'pop_density_log2'].values\n",
    "input_labels_val = df_annos.loc[df_annos.partition == 'val', 'pop_density_log2'].values\n",
    "input_labels_test = df_annos.loc[df_annos.partition == 'test', 'pop_density_log2'].values\n",
    "input_labels = np.concatenate((input_labels_train, input_labels_val, input_labels_test), axis=0)\n",
    "\n",
    "input_ids_train = df_annos.loc[df_annos.partition == 'train', 'village_id'].values\n",
    "input_ids_val = df_annos.loc[df_annos.partition == 'val', 'village_id'].values\n",
    "input_ids_test = df_annos.loc[df_annos.partition == 'test', 'village_id'].values\n",
    "input_ids = np.concatenate((input_ids_train, input_ids_val, input_ids_test), axis=0)\n",
    "\n",
    "images_batch, _, ids_batch = \\\n",
    "        dataset.input_batches(FLAGS.batch_size, FLAGS.output_size, input_files, input_labels, input_ids,\n",
    "                              IMAGE_HEIGHT, IMAGE_WIDTH, IMAGE_CHANNEL, regression=True, augmentation=False, normalization=False, repeat=False)\n",
    "\n",
    "saved = 0\n",
    "def extract(examples, curr_im_batch, curr_ids_batch):\n",
    "    s = 0\n",
    "    for idx, vid in enumerate(curr_ids_batch):\n",
    "        if vid in examples:\n",
    "            examples[vid][\"X\"] = curr_im_batch[idx]\n",
    "            s += 1\n",
    "    return s\n",
    "\n",
    "count = 0\n",
    "while True:\n",
    "    count += 1\n",
    "    try:\n",
    "        curr_images_batch, curr_ids_batch = sess.run([images_batch, ids_batch])\n",
    "        saved += extract(examples, curr_images_batch, curr_ids_batch)\n",
    "        print(\"finished batch\", count)\n",
    "    except tf.errors.OutOfRangeError:\n",
    "        break\n",
    "\n",
    "print(\"saved pics for num villages:\", saved)"
   ]
  },
  {
   "cell_type": "raw",
   "metadata": {},
   "source": [
    "import sys\n",
    "\n",
    "def color_hist(img, bins):\n",
    "    return np.histogram(img, bins=bins)[0]\n",
    "\n",
    "def rescale(feat):\n",
    "    new_feat = []\n",
    "    min_val = np.min(feat)\n",
    "    max_val = np.max(feat)\n",
    "    diff = float(max_val) - min_val\n",
    "    for val in feat:\n",
    "        new_feat.append((val-min_val)/diff)\n",
    "    return new_feat\n",
    "\n",
    "def compute_hist(images):\n",
    "    max_val = sys.float_info.min\n",
    "    min_val = sys.float_info.max\n",
    "\n",
    "    # compute bins for histogram\n",
    "    for img in images:\n",
    "        max_val_img = np.max(img)\n",
    "        min_val_img = np.min(img)\n",
    "        if max_val_img > max_val:\n",
    "            max_val = max_val_img\n",
    "        if min_val_img < min_val:\n",
    "            min_val = min_val_img\n",
    "\n",
    "    num_bins = 256\n",
    "    l = list(np.linspace(min_val,max_val, num=num_bins))\n",
    "\n",
    "    all_images_hist = []\n",
    "    for idx, img in enumerate(images):\n",
    "        R = img[:, :, 0]\n",
    "        G = img[:, :, 1]\n",
    "        B = img[:, :, 2]\n",
    "        hist = []\n",
    "        hist.extend(color_hist(R, l))\n",
    "        hist.extend(color_hist(G, l))\n",
    "        hist.extend(color_hist(B, l))\n",
    "        all_images_hist.append(hist)\n",
    "        if idx % 1000 == 0:\n",
    "            print(\"on\", idx)\n",
    "    \n",
    "    return np.array(all_images_hist)"
   ]
  },
  {
   "cell_type": "code",
   "execution_count": 5,
   "metadata": {},
   "outputs": [
    {
     "name": "stdout",
     "output_type": "stream",
     "text": [
      "(11410, 224, 224, 3)\n",
      "(11410,)\n",
      "(11410,)\n"
     ]
    }
   ],
   "source": [
    "from sklearn.model_selection import train_test_split\n",
    "\n",
    "images = []\n",
    "y = []\n",
    "vids = []\n",
    "\n",
    "for vid, data in examples.items():\n",
    "    if \"X\" not in data:\n",
    "        continue\n",
    "    vids.append(vid)\n",
    "    images.append(data[\"X\"])\n",
    "    y.append(data[\"y\"])\n",
    "\n",
    "images_train, images_test, y_train, y_test, vids_train, vids_test = train_test_split(np.array(images), np.array(y), np.array(vids), test_size=0.1, random_state=42)\n",
    "print(images_train.shape)\n",
    "print(y_train.shape)\n",
    "print(vids_train.shape)"
   ]
  },
  {
   "cell_type": "raw",
   "metadata": {},
   "source": [
    "from sklearn.model_selection import cross_val_score\n",
    "from sklearn.linear_model import LinearRegression\n",
    "\n",
    "X_train = compute_hist(images_train)\n",
    "X_test = compute_hist(images_test)\n",
    "print(X_train.shape)\n",
    "print(X_test.shape)\n",
    "print(y_train.shape)\n",
    "print(y_test.shape)\n",
    "regr_scores = cross_validate(LinearRegression(), X_train, y_train, scoring=('r2', 'neg_mean_squared_error'))"
   ]
  },
  {
   "cell_type": "code",
   "execution_count": 6,
   "metadata": {},
   "outputs": [
    {
     "name": "stdout",
     "output_type": "stream",
     "text": [
      "Computing SIFT descriptors from 8874 train images...\n",
      "on img 0\n",
      "on img 500\n",
      "on img 1000\n",
      "on img 1500\n",
      "on img 2000\n",
      "on img 2500\n",
      "on img 3000\n",
      "on img 3500\n",
      "on img 4000\n",
      "on img 4500\n",
      "on img 5000\n",
      "on img 5500\n",
      "on img 6000\n",
      "on img 6500\n",
      "on img 7000\n",
      "on img 7500\n",
      "on img 8000\n",
      "on img 8500\n",
      "Computing SIFT descriptors from 2536 val images...\n",
      "on img 0\n",
      "on img 500\n",
      "on img 1000\n",
      "on img 1500\n",
      "on img 2000\n",
      "on img 2500\n"
     ]
    }
   ],
   "source": [
    "import cv2\n",
    "from sklearn.cluster import KMeans\n",
    "\n",
    "num_real_train = int(len(images_train)*(7/9.0))\n",
    "\n",
    "images_real_train = images_train[:num_real_train]\n",
    "images_val = images_train[num_real_train:]\n",
    "y_real_train = y_train[:num_real_train]\n",
    "y_val = y_train[num_real_train:]\n",
    "vids_real_train = vids_train[:num_real_train]\n",
    "vids_val = vids_train[num_real_train:]\n",
    "\n",
    "def compute_descriptors(X, y, vids):\n",
    "    descriptors_by_idx = dict()\n",
    "    final_X = []\n",
    "    final_y = []\n",
    "    final_vids = []\n",
    "    for idx, img in enumerate(X):\n",
    "        if idx % 500 == 0:\n",
    "            print(\"on img\", idx)\n",
    "        gray = cv2.cvtColor(img, cv2.COLOR_BGR2GRAY)\n",
    "        sift = cv2.xfeatures2d.SIFT_create()\n",
    "        kp = sift.detect(gray,None)\n",
    "        kp,des = sift.compute(gray,kp)\n",
    "        if des is None:\n",
    "            continue\n",
    "        descriptors_by_idx[idx] = {\"X\": des, \"y\": y[idx], \"vid\": vids[idx], \"kp\": kp, \"gray\": gray, \"im\": img}\n",
    "    return descriptors_by_idx\n",
    "\n",
    "print(\"Computing SIFT descriptors from\", len(images_real_train), \"train images...\")\n",
    "train_descriptors_by_idx = compute_descriptors(images_real_train, y_real_train, vids_real_train)\n",
    "\n",
    "print(\"Computing SIFT descriptors from\", len(images_val), \"val images...\")\n",
    "val_descriptors_by_idx = compute_descriptors(images_val, y_val, vids_val)"
   ]
  },
  {
   "cell_type": "code",
   "execution_count": 7,
   "metadata": {},
   "outputs": [
    {
     "name": "stdout",
     "output_type": "stream",
     "text": [
      "Clustering 2711800 train descriptors into 15 clusters...\n"
     ]
    }
   ],
   "source": [
    "feature_vector_len = 15\n",
    "\n",
    "# now compute SIFT descriptors for all of the ones in train and cluster them\n",
    "def cluster(descriptors):\n",
    "    kmeans = KMeans(n_clusters=feature_vector_len, random_state=0).fit(descriptors)\n",
    "    return kmeans\n",
    "\n",
    "train_descriptors = []\n",
    "for idx, data in train_descriptors_by_idx.items():\n",
    "    train_descriptors.extend(data[\"X\"])\n",
    "print(\"Clustering\", len(train_descriptors), \"train descriptors into\", str(feature_vector_len) ,\"clusters...\")\n",
    "clusters = cluster(np.array(train_descriptors))"
   ]
  },
  {
   "cell_type": "code",
   "execution_count": 50,
   "metadata": {},
   "outputs": [
    {
     "name": "stdout",
     "output_type": "stream",
     "text": [
      "Computing feature vectors for 8874 training images...\n",
      "Computing feature vectors for 2536 validation images...\n"
     ]
    }
   ],
   "source": [
    "# now compute feature vectors for everything in X_sift_train and X_sift_val\n",
    "def compute_feature_vectors(clusters, descriptors_by_idx):\n",
    "    feature_vectors = []\n",
    "    ylog2 = []\n",
    "    y = []\n",
    "    vids = []\n",
    "    kps = []\n",
    "    imgs = []\n",
    "    grays = []\n",
    "    for idx, data in descriptors_by_idx.items():\n",
    "        des = data[\"X\"]\n",
    "        kp = data[\"kp\"]\n",
    "        kp_by_cluster = dict()\n",
    "        histogram = np.zeros((feature_vector_len))\n",
    "        predicted_clusters = clusters.predict(des)\n",
    "        for idx2, cluster_num in enumerate(predicted_clusters):\n",
    "            histogram[cluster_num] += 1\n",
    "            currkp = kp[idx2]\n",
    "            if cluster_num not in kp_by_cluster:\n",
    "                kp_by_cluster[cluster_num] = []\n",
    "            kp_by_cluster[cluster_num].append(currkp)\n",
    "        feature_vectors.append(histogram)\n",
    "        \n",
    "        ylog2.append(np.log2(data[\"y\"]+1.0))\n",
    "        y.append(data[\"y\"])\n",
    "        vids.append(data[\"vid\"])\n",
    "        imgs.append(data[\"im\"])\n",
    "        grays.append(data[\"gray\"])\n",
    "        kps.append(list(kp_by_cluster.items()))\n",
    "    return np.array(feature_vectors), np.array(ylog2), np.array(y), np.array(vids), kps, imgs, grays\n",
    "\n",
    "print(\"Computing feature vectors for\", len(images_real_train), \"training images...\")\n",
    "images_real_train_vecs, images_train_y_vecs, images_train_ynormal_vecs, images_train_vids, images_train_kps, images_train_imgs, images_train_grays = compute_feature_vectors(clusters, train_descriptors_by_idx)\n",
    "assert images_real_train_vecs.shape == (len(train_descriptors_by_idx), feature_vector_len)\n",
    "\n",
    "print(\"Computing feature vectors for\", len(images_val), \"validation images...\")\n",
    "images_val_vecs, images_val_y_vecs, images_val_ynormal_vecs, images_val_vids, images_val_kps, images_val_imgs, images_val_grays = compute_feature_vectors(clusters, val_descriptors_by_idx)\n",
    "assert images_val_vecs.shape == (len(val_descriptors_by_idx), feature_vector_len)"
   ]
  },
  {
   "cell_type": "code",
   "execution_count": 60,
   "metadata": {},
   "outputs": [
    {
     "data": {
      "image/png": "[encoded data removed]",
      "text/plain": [
       "<matplotlib.figure.Figure at 0x7f21d3a81c50>"
      ]
     },
     "metadata": {},
     "output_type": "display_data"
    },
    {
     "data": {
      "image/png": "[encoded data removed]",
      "text/plain": [
       "<matplotlib.figure.Figure at 0x7f21ceca9e48>"
      ]
     },
     "metadata": {},
     "output_type": "display_data"
    }
   ],
   "source": [
    "import scipy\n",
    "\n",
    "cp = images_train_ynormal_vecs[:]\n",
    "cdfy = scipy.stats.expon.cdf(np.sort(cp))\n",
    "ret = scipy.stats.norm.ppf(cdfy) # a normal distribution\n",
    "plt.plot(list(range(len(ret))), ret)\n",
    "plt.show()\n",
    "\n",
    "cp = images_train_ynormal_vecs[:]\n",
    "cp.sort()\n",
    "cp = list(cp)\n",
    "cp.reverse()\n",
    "\n",
    "plt.plot(list(range(len(cp))), cp)\n",
    "plt.show()"
   ]
  },
  {
   "cell_type": "code",
   "execution_count": null,
   "metadata": {},
   "outputs": [],
   "source": [
    "# pick some training image, and plot it's kps by cluster\n",
    "select_kp = images_train_kps[6] # list of keypoints by cluster\n",
    "select_im = images_train_imgs[6]\n",
    "select_gray = images_train_grays[6]\n",
    "\n",
    "# plot a cluster of keypoints in a color: image index 6 is great\n",
    "img=cv2.drawKeypoints(select_gray, select_kp[2][1], select_im, color=2)\n",
    "cv2.imwrite('cluster2.jpg',img)\n",
    "plt.imshow(cv2.imread('cluster2.jpg'))\n",
    "plt.show()\n",
    "\n",
    "# pick some training image, and plot it's kps by cluster\n",
    "select_kp = images_train_kps[8] # list of keypoints by cluster\n",
    "select_im = images_train_imgs[8]\n",
    "select_gray = images_train_grays[8]\n",
    "\n",
    "# plot a cluster of keypoints in a color: image index 6 is great\n",
    "img=cv2.drawKeypoints(select_gray, select_kp[11][1], select_im, color=2)\n",
    "cv2.imwrite('cluster2.jpg',img)\n",
    "plt.imshow(cv2.imread('cluster2.jpg'))\n",
    "plt.show()"
   ]
  },
  {
   "cell_type": "code",
   "execution_count": 37,
   "metadata": {},
   "outputs": [
    {
     "name": "stdout",
     "output_type": "stream",
     "text": [
      "567976\n",
      "567976\n",
      "5740\n",
      "['585959', '441824', '148962', '537532', '509765', '302067', '167729', '594819', '567235', '62839', '503772', '117626', '248105', '94782', '431514', '470911', '339159', '39855', '382998', '58566', '176934', '127197', '567338', '396592', '447418', '542635', '117750', '263051', '283175', '72521', '13279', '493523', '52605', '171532', '300779', '82180', '310140', '405356', '232382', '378626', '73188', '623087', '13580', '398894', '3537', '583609', '72130', '58559', '214256', '40915', '151908', '515380', '613839', '425717', '461682', '329394', '412727', '223831', '315265', '304774', '357960', '323793', '97912', '611989', '213959', '286644', '107264', '536655', '187660', '248150', '36545', '473268', '103037', '607755', '281420', '12401', '509610', '20914', '500725', '525992', '240497', '196379', '91050', '387400', '453470', '498967', '15130', '247664', '15769', '12574', '120490', '284983', '462045', '596495', '312365', '571719', '457504', '132130', '439731', '409651']\n"
     ]
    }
   ],
   "source": [
    "import csv\n",
    "\n",
    "districts = dict()\n",
    "subdistricts = dict()\n",
    "unique_subdistricts = set()\n",
    "\n",
    "with open(\"India_pov_pop_w_district.csv\", \"r\") as original_file:\n",
    "    villagereader = csv.reader(original_file)\n",
    "    count = 0\n",
    "    for row in villagereader:\n",
    "        count += 1\n",
    "        if count == 1:\n",
    "            continue\n",
    "        districts[row[2]] = row[-2]\n",
    "        subdistricts[row[2]] = row[-1]\n",
    "        unique_subdistricts.add(row[-1])\n",
    "\n",
    "print(len(districts))\n",
    "print(len(subdistricts))\n",
    "print(len(unique_subdistricts))\n",
    "\n",
    "print(list(subdistricts.keys())[:100])"
   ]
  },
  {
   "cell_type": "code",
   "execution_count": 94,
   "metadata": {},
   "outputs": [
    {
     "name": "stdout",
     "output_type": "stream",
     "text": [
      "100\n",
      "100\n"
     ]
    }
   ],
   "source": [
    "from sklearn.metrics import r2_score, mean_squared_error, mean_absolute_error\n",
    "from sklearn.svm import LinearSVC\n",
    "from sklearn.tree import DecisionTreeRegressor\n",
    "\n",
    "def normalize(X, mean=None, std=None):\n",
    "    if mean is None:\n",
    "        mean = np.mean(X, axis=0)\n",
    "    if std is None:\n",
    "        std = np.std(X, axis=0)\n",
    "    return ((X - mean) / std), mean, std\n",
    "\n",
    "# normalize the data based on mean and std from just training data\n",
    "images_real_train_vecs, images_real_train_mean, images_real_train_std = normalize(images_real_train_vecs)\n",
    "images_val_vecs, _, _ = normalize(images_val_vecs, images_real_train_mean, images_real_train_std)\n",
    "\n",
    "# now train SVM\n",
    "from sklearn.svm import SVR\n",
    "#sift_clf = SVR(C=1.3, epsilon=0.05)\n",
    "#sift_clf = LinearSVC(random_state=0)\n",
    "sift_clf = DecisionTreeRegressor(random_state=0)\n",
    "sift_clf.fit(images_real_train_vecs, images_train_y_vecs)\n",
    "\n",
    "# now predict on the val set and report metrics\n",
    "y_pred_val = sift_clf.predict(images_val_vecs)\n",
    "\n",
    "true_vals_by_subdistrict = dict()\n",
    "pred_vals_by_subdistrict = dict()\n",
    "\n",
    "# aggregate by subdistrict\n",
    "for i, p in enumerate(y_pred_val):\n",
    "    vid = images_val_vids[i]\n",
    "    if str(vid) not in subdistricts:\n",
    "        continue\n",
    "    subdistrict = subdistricts[str(vid)]\n",
    "    if subdistrict not in pred_vals_by_subdistrict:\n",
    "        pred_vals_by_subdistrict[subdistrict] = 0.0\n",
    "    pred_vals_by_subdistrict[subdistrict] += p\n",
    "\n",
    "for i, p2 in enumerate(images_val_y_vecs):\n",
    "    vid = images_val_vids[i]\n",
    "    if str(vid) not in subdistricts:\n",
    "        continue\n",
    "    subdistrict = subdistricts[str(vid)]\n",
    "    if subdistrict not in true_vals_by_subdistrict:\n",
    "        true_vals_by_subdistrict[subdistrict] = 0.0\n",
    "    true_vals_by_subdistrict[subdistrict] += p2\n",
    "\n",
    "true_subdistrict_vals = []\n",
    "pred_subdistrict_vals = []\n",
    "for subdistrict, val in true_vals_by_subdistrict.items():\n",
    "    true_subdistrict_vals.append(val)\n",
    "    pred_subdistrict_vals.append(pred_vals_by_subdistrict[subdistrict])\n",
    "    \n",
    "print(len(true_subdistrict_vals))\n",
    "print(len(pred_subdistrict_vals))\n",
    "\n",
    "sift_r2 = r2_score(true_subdistrict_vals, pred_subdistrict_vals)\n",
    "sift_mse = mean_squared_error(true_subdistrict_vals, pred_subdistrict_vals)\n",
    "sift_mae = mean_absolute_error(true_subdistrict_vals, pred_subdistrict_vals)"
   ]
  },
  {
   "cell_type": "code",
   "execution_count": 95,
   "metadata": {},
   "outputs": [
    {
     "name": "stdout",
     "output_type": "stream",
     "text": [
      "==> R^2: 0.650355285264\n",
      "==> MSE: 331.668069749\n",
      "==> RMSE: 18.2117563609\n",
      "==> MAE: 13.8982723872\n"
     ]
    }
   ],
   "source": [
    "print(\"==> R^2:\", sift_r2)\n",
    "print(\"==> MSE:\", sift_mse)\n",
    "print(\"==> RMSE:\", np.sqrt(sift_mse))\n",
    "print(\"==> MAE:\", sift_mae)"
   ]
  },
  {
   "cell_type": "code",
   "execution_count": 96,
   "metadata": {},
   "outputs": [
    {
     "data": {
      "image/png": "[encoded data removed]",
      "text/plain": [
       "<matplotlib.figure.Figure at 0x7f21cfaae9b0>"
      ]
     },
     "metadata": {},
     "output_type": "display_data"
    }
   ],
   "source": [
    "import matplotlib.pyplot as plt\n",
    "import numpy as np\n",
    "from sklearn.metrics import mean_squared_error, r2_score, accuracy_score, mean_absolute_error\n",
    "from scipy.stats import pearsonr\n",
    "\n",
    "plt.title(\"Scatter plot of true subdistrict-level water bodies (log 2) vs predicted subdistrict-level water bodies (log 2)\")\n",
    "plt.ylabel(\"Predicted subdistrict water bodies (log 2)\")\n",
    "plt.xlabel(\"True subdistrict water bodies (log 2)\")\n",
    "r2 = r2_score(true_subdistrict_vals, pred_subdistrict_vals)\n",
    "p = pearsonr(true_subdistrict_vals, pred_subdistrict_vals)[0]\n",
    "plt.figtext(0.7, 0.2, \"r2 = %.4f\" % r2)\n",
    "plt.figtext(0.7, 0.15, \"Pearson = %.4f\" % p)\n",
    "plt.scatter(true_subdistrict_vals, pred_subdistrict_vals, alpha=0.5)\n",
    "plt.show()"
   ]
  },
  {
   "cell_type": "code",
   "execution_count": 97,
   "metadata": {},
   "outputs": [
    {
     "data": {
      "image/png": "[encoded data removed]",
      "text/plain": [
       "<matplotlib.figure.Figure at 0x7f21cebd2518>"
      ]
     },
     "metadata": {},
     "output_type": "display_data"
    },
    {
     "name": "stdout",
     "output_type": "stream",
     "text": [
      "rmse: 1.68179278489\n",
      "mae: 1.287750944\n"
     ]
    }
   ],
   "source": [
    "plt.title(\"Scatter plot of true village-level water bodies (log 2) vs predicted village-level water bodies (log 2)\")\n",
    "plt.ylabel(\"Predicted village-level water bodies (log 2)\")\n",
    "plt.xlabel(\"True village-level water bodies (log 2)\")\n",
    "r2 = r2_score(images_val_y_vecs, y_pred_val)\n",
    "p = pearsonr(images_val_y_vecs, y_pred_val)[0]\n",
    "plt.figtext(0.7, 0.2, \"r2 = %.2f\" % r2)\n",
    "plt.figtext(0.7, 0.15, \"Pearson = %.2f\" % p)\n",
    "plt.scatter(images_val_y_vecs, y_pred_val, alpha=0.5)\n",
    "plt.show()\n",
    "\n",
    "mse = mean_squared_error(images_val_y_vecs, y_pred_val)\n",
    "print(\"rmse:\", np.sqrt(mse))\n",
    "\n",
    "mse = mean_absolute_error(images_val_y_vecs, y_pred_val)\n",
    "print(\"mae:\", mse)"
   ]
  },
  {
   "cell_type": "code",
   "execution_count": null,
   "metadata": {},
   "outputs": [],
   "source": []
  }
 ],
 "metadata": {
  "kernelspec": {
   "display_name": "Python 3",
   "language": "python",
   "name": "python3"
  },
  "language_info": {
   "codemirror_mode": {
    "name": "ipython",
    "version": 3
   },
   "file_extension": ".py",
   "mimetype": "text/x-python",
   "name": "python",
   "nbconvert_exporter": "python",
   "pygments_lexer": "ipython3",
   "version": "3.5.2"
  }
 },
 "nbformat": 4,
 "nbformat_minor": 2
}
